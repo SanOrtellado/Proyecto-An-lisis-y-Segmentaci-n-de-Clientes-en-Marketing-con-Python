{
 "cells": [
  {
   "cell_type": "markdown",
   "id": "731e6336",
   "metadata": {},
   "source": [
    "# 📊 Proyecto: Análisis y Segmentación de Clientes en Marketing con Python\n",
    "Este notebook demuestra cómo aplicar análisis **RFM (Recencia, Frecuencia, Monto)** y segmentación con **K-Means** para un caso de marketing digital.\n"
   ]
  },
  {
   "cell_type": "code",
   "execution_count": null,
   "id": "fd5fa590",
   "metadata": {},
   "outputs": [],
   "source": [
    "import pandas as pd\n",
    "import numpy as np\n",
    "import seaborn as sns\n",
    "import matplotlib.pyplot as plt\n",
    "from sklearn.cluster import KMeans\n",
    "from sklearn.preprocessing import StandardScaler\n"
   ]
  },
  {
   "cell_type": "markdown",
   "id": "0eec0548",
   "metadata": {},
   "source": [
    "## 1. Generación de datos ficticios"
   ]
  },
  {
   "cell_type": "code",
   "execution_count": null,
   "id": "aba107b1",
   "metadata": {},
   "outputs": [],
   "source": [
    "np.random.seed(42)\n",
    "n_clientes = 50\n",
    "\n",
    "data = {\n",
    "    'ID_CLIENTE': range(1, n_clientes+1),\n",
    "    'FECHA_ULTIMA_COMPRA': pd.date_range('2025-01-01', periods=n_clientes, freq='7D'),\n",
    "    'N_COMPRAS': np.random.randint(1, 20, n_clientes),\n",
    "    'MONTO_TOTAL': np.random.randint(5000, 100000, n_clientes),\n",
    "    'CANAL': np.random.choice(['Email', 'RRSS', 'Web'], n_clientes)\n",
    "}\n",
    "df = pd.DataFrame(data)\n",
    "df['RECENCIA'] = (pd.to_datetime('2025-09-30') - df['FECHA_ULTIMA_COMPRA']).dt.days\n",
    "df.head()"
   ]
  },
  {
   "cell_type": "markdown",
   "id": "f9a82873",
   "metadata": {},
   "source": [
    "## 2. Preparación de tabla RFM"
   ]
  },
  {
   "cell_type": "code",
   "execution_count": null,
   "id": "1ede813b",
   "metadata": {},
   "outputs": [],
   "source": [
    "rfm = df[['ID_CLIENTE','RECENCIA','N_COMPRAS','MONTO_TOTAL']].copy()\n",
    "rfm.columns = ['ID_CLIENTE','Recencia','Frecuencia','Monto']\n",
    "rfm.head()"
   ]
  },
  {
   "cell_type": "markdown",
   "id": "4b6b057a",
   "metadata": {},
   "source": [
    "## 3. Segmentación con K-Means"
   ]
  },
  {
   "cell_type": "code",
   "execution_count": null,
   "id": "b6675988",
   "metadata": {},
   "outputs": [],
   "source": [
    "X = rfm[['Recencia','Frecuencia','Monto']]\n",
    "scaler = StandardScaler()\n",
    "X_scaled = scaler.fit_transform(X)\n",
    "\n",
    "kmeans = KMeans(n_clusters=4, random_state=42, n_init=10)\n",
    "rfm['Segmento'] = kmeans.fit_predict(X_scaled)\n",
    "rfm.head()"
   ]
  },
  {
   "cell_type": "markdown",
   "id": "374d6366",
   "metadata": {},
   "source": [
    "## 4. Visualización de los segmentos"
   ]
  },
  {
   "cell_type": "code",
   "execution_count": null,
   "id": "1a3a795d",
   "metadata": {},
   "outputs": [],
   "source": [
    "plt.figure(figsize=(10,6))\n",
    "sns.scatterplot(data=rfm, x='Recencia', y='Monto', hue='Segmento', palette='tab10', s=100)\n",
    "plt.title('Segmentación de Clientes - RFM con KMeans', fontsize=14, fontweight='bold')\n",
    "plt.xlabel('Recencia (días desde última compra)')\n",
    "plt.ylabel('Monto total gastado (ARS)')\n",
    "plt.legend(title='Segmento')\n",
    "plt.show()"
   ]
  }
 ],
 "metadata": {},
 "nbformat": 4,
 "nbformat_minor": 5
}
